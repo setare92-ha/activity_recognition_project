{
 "cells": [
  {
   "cell_type": "markdown",
   "id": "dc75a3f3-b8a4-4131-9975-83fef4ce850b",
   "metadata": {},
   "source": [
    "# Human Activity Recognition Using Acceleration Data From Cell Phones"
   ]
  },
  {
   "cell_type": "markdown",
   "id": "861b4b32-ff20-4a9f-b351-48d29a820e28",
   "metadata": {},
   "source": [
    "## 1. Business Understanding"
   ]
  },
  {
   "cell_type": "code",
   "execution_count": null,
   "id": "de04cc43-f21a-4f74-ab06-f1ebc4d5ac97",
   "metadata": {},
   "outputs": [],
   "source": []
  },
  {
   "cell_type": "code",
   "execution_count": null,
   "id": "6364765f-5c2b-4421-adc8-617dfa4e9cb7",
   "metadata": {},
   "outputs": [],
   "source": []
  },
  {
   "cell_type": "markdown",
   "id": "29269289-27b8-45e3-a217-46050cee24b4",
   "metadata": {},
   "source": [
    "## 2. Explaratory Data Analysis"
   ]
  },
  {
   "cell_type": "code",
   "execution_count": null,
   "id": "5355729f-04bf-4370-a897-1b22fc6237bc",
   "metadata": {},
   "outputs": [],
   "source": []
  },
  {
   "cell_type": "code",
   "execution_count": null,
   "id": "8a2b984a-91ee-4528-8a98-5b25678cbbd5",
   "metadata": {},
   "outputs": [],
   "source": []
  },
  {
   "cell_type": "markdown",
   "id": "8339b557-94ec-4d75-be94-b18ae17680cf",
   "metadata": {},
   "source": [
    "## 3. Machine Learning Model"
   ]
  },
  {
   "cell_type": "code",
   "execution_count": null,
   "id": "b6308645-0d3f-412f-9c85-7663158a833d",
   "metadata": {},
   "outputs": [],
   "source": []
  },
  {
   "cell_type": "code",
   "execution_count": null,
   "id": "ed7e2367-c3c3-401e-829e-b1526baa1707",
   "metadata": {},
   "outputs": [],
   "source": []
  },
  {
   "cell_type": "markdown",
   "id": "461da8ff-aea9-49e3-804d-ad1229741832",
   "metadata": {},
   "source": [
    "## 4. Results and Recommendations"
   ]
  },
  {
   "cell_type": "code",
   "execution_count": null,
   "id": "a94bd5e8-67dd-4e69-8e52-ef13a4d53f03",
   "metadata": {},
   "outputs": [],
   "source": []
  },
  {
   "cell_type": "code",
   "execution_count": null,
   "id": "9d7e0b3d-e7df-45ce-8c9a-e46735d450a4",
   "metadata": {},
   "outputs": [],
   "source": []
  },
  {
   "cell_type": "markdown",
   "id": "e33dc6bb-1e9b-4661-891d-b4ce0828d14a",
   "metadata": {},
   "source": [
    "## 5. Limitations and Next Steps"
   ]
  },
  {
   "cell_type": "code",
   "execution_count": null,
   "id": "979af4d9-427c-498d-8949-42eb18a303b6",
   "metadata": {},
   "outputs": [],
   "source": []
  },
  {
   "cell_type": "code",
   "execution_count": null,
   "id": "67389711-8705-4251-94b1-cafd1d33913b",
   "metadata": {},
   "outputs": [],
   "source": []
  },
  {
   "cell_type": "code",
   "execution_count": null,
   "id": "9e7e1f3d-aee9-4017-a871-c1dc6f01bfb9",
   "metadata": {},
   "outputs": [],
   "source": []
  }
 ],
 "metadata": {
  "kernelspec": {
   "display_name": "Python 3 (ipykernel)",
   "language": "python",
   "name": "python3"
  },
  "language_info": {
   "codemirror_mode": {
    "name": "ipython",
    "version": 3
   },
   "file_extension": ".py",
   "mimetype": "text/x-python",
   "name": "python",
   "nbconvert_exporter": "python",
   "pygments_lexer": "ipython3",
   "version": "3.9.18"
  }
 },
 "nbformat": 4,
 "nbformat_minor": 5
}
